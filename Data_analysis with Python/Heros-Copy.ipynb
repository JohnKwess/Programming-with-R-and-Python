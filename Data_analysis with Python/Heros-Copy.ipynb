{
 "cells": [
  {
   "cell_type": "code",
   "execution_count": 27,
   "metadata": {},
   "outputs": [],
   "source": [
    "import pandas as pd\n",
    "import numpy as np"
   ]
  },
  {
   "cell_type": "code",
   "execution_count": 3,
   "metadata": {},
   "outputs": [],
   "source": [
    "file = \"Resources/purchase_data.csv\""
   ]
  },
  {
   "cell_type": "code",
   "execution_count": 5,
   "metadata": {},
   "outputs": [],
   "source": [
    "\n",
    "\n",
    "purchase_data = pd.read_csv(file)\n",
    "\n"
   ]
  },
  {
   "cell_type": "code",
   "execution_count": 87,
   "metadata": {},
   "outputs": [],
   "source": [
    "\n",
    "# Purchasing Analysis\n",
    "\n",
    "\n",
    "total_revenue = (purchase_data[\"Price\"]).sum()\n",
    "\n",
    "total_number_players = len(purchase_data[\"SN\"].value_counts())\n",
    "unique_items = len(purchase_data[\"Item ID\"].unique())\n",
    "unique_items\n",
    "average_price = purchase_data[\"Price\"].mean()\n",
    "Total_Number_purchases = purchase_data[\"Purchase ID\"].count()\n",
    "Total_Revenue  = purchase_data[\"Price\"].sum()\n"
   ]
  },
  {
   "cell_type": "code",
   "execution_count": 28,
   "metadata": {},
   "outputs": [
    {
     "name": "stdout",
     "output_type": "stream",
     "text": [
      "average_price : $3.050987179487176\n",
      "total_number_players:576\n"
     ]
    },
    {
     "data": {
      "text/html": [
       "<style  type=\"text/css\" >\n",
       "</style><table id=\"T_39adb242_1e8d_11ea_9484_acde48001122\" ><thead>    <tr>        <th class=\"blank level0\" ></th>        <th class=\"col_heading level0 col0\" >Number of Unique Items</th>        <th class=\"col_heading level0 col1\" >Average Purchase Price </th>        <th class=\"col_heading level0 col2\" >Total Number of Purchases</th>        <th class=\"col_heading level0 col3\" >Total Revenue</th>    </tr></thead><tbody>\n",
       "                <tr>\n",
       "                        <th id=\"T_39adb242_1e8d_11ea_9484_acde48001122level0_row0\" class=\"row_heading level0 row0\" >0</th>\n",
       "                        <td id=\"T_39adb242_1e8d_11ea_9484_acde48001122row0_col0\" class=\"data row0 col0\" >183</td>\n",
       "                        <td id=\"T_39adb242_1e8d_11ea_9484_acde48001122row0_col1\" class=\"data row0 col1\" >3.05099</td>\n",
       "                        <td id=\"T_39adb242_1e8d_11ea_9484_acde48001122row0_col2\" class=\"data row0 col2\" >780</td>\n",
       "                        <td id=\"T_39adb242_1e8d_11ea_9484_acde48001122row0_col3\" class=\"data row0 col3\" >2379.77</td>\n",
       "            </tr>\n",
       "    </tbody></table>"
      ],
      "text/plain": [
       "<pandas.io.formats.style.Styler at 0x113c36710>"
      ]
     },
     "execution_count": 28,
     "metadata": {},
     "output_type": "execute_result"
    }
   ],
   "source": [
    "# DataFrames\n",
    "print(\"average_price :\", \"$\" +  str(average_price))\n",
    "print(\"total_number_players:\" +str(total_number_players))\n",
    "Dataframe = pd.DataFrame({\"Number of Unique Items\" : [unique_items] ,\"Average Purchase Price \" : [average_price] , \"Total Number of Purchases\" : [Total_Number_purchases], \n",
    "                          \"Total Revenue\" : [Total_Revenue]})\n",
    "\n",
    "Dataframe.style.format({\"average_price\" : \"{:,.2f}\",\n",
    "                       \"Total_Revenue\" : \"{:,.2f}\"})\n",
    "\n",
    "\n",
    "                       "
   ]
  },
  {
   "cell_type": "code",
   "execution_count": null,
   "metadata": {
    "jupyter": {
     "source_hidden": true
    }
   },
   "outputs": [],
   "source": []
  },
  {
   "cell_type": "code",
   "execution_count": 64,
   "metadata": {},
   "outputs": [
    {
     "data": {
      "text/html": [
       "<style  type=\"text/css\" >\n",
       "</style><table id=\"T_e321e9fc_1c8e_11ea_aa2f_8c859022242e\" ><thead>    <tr>        <th class=\"blank level0\" ></th>        <th class=\"col_heading level0 col0\" >Percentage Players</th>        <th class=\"col_heading level0 col1\" >Percentage_male</th>    </tr></thead><tbody>\n",
       "                <tr>\n",
       "                        <th id=\"T_e321e9fc_1c8e_11ea_aa2f_8c859022242elevel0_row0\" class=\"row_heading level0 row0\" >Female</th>\n",
       "                        <td id=\"T_e321e9fc_1c8e_11ea_aa2f_8c859022242erow0_col0\" class=\"data row0 col0\" >14.06</td>\n",
       "                        <td id=\"T_e321e9fc_1c8e_11ea_aa2f_8c859022242erow0_col1\" class=\"data row0 col1\" >81</td>\n",
       "            </tr>\n",
       "            <tr>\n",
       "                        <th id=\"T_e321e9fc_1c8e_11ea_aa2f_8c859022242elevel0_row1\" class=\"row_heading level0 row1\" >Male</th>\n",
       "                        <td id=\"T_e321e9fc_1c8e_11ea_aa2f_8c859022242erow1_col0\" class=\"data row1 col0\" >84.03</td>\n",
       "                        <td id=\"T_e321e9fc_1c8e_11ea_aa2f_8c859022242erow1_col1\" class=\"data row1 col1\" >484</td>\n",
       "            </tr>\n",
       "            <tr>\n",
       "                        <th id=\"T_e321e9fc_1c8e_11ea_aa2f_8c859022242elevel0_row2\" class=\"row_heading level0 row2\" >Other / Non-Disclosed</th>\n",
       "                        <td id=\"T_e321e9fc_1c8e_11ea_aa2f_8c859022242erow2_col0\" class=\"data row2 col0\" >1.91</td>\n",
       "                        <td id=\"T_e321e9fc_1c8e_11ea_aa2f_8c859022242erow2_col1\" class=\"data row2 col1\" >11</td>\n",
       "            </tr>\n",
       "    </tbody></table>"
      ],
      "text/plain": [
       "<pandas.io.formats.style.Styler at 0x1189df9e8>"
      ]
     },
     "execution_count": 64,
     "metadata": {},
     "output_type": "execute_result"
    }
   ],
   "source": [
    "#Percentage and Count of Male Players\n",
    "gender_count = purchase_data.groupby(\"Gender\")\n",
    "count_gender = gender_count.nunique()[\"SN\"]\n",
    "Percentage = (count_gender / total_number_players) * 100\n",
    "Percentage_male\n",
    "\n",
    "Percentage_DataFrame = pd.DataFrame({ \"Percentage Players\" : Percentage ,\n",
    "                                     \"Percentage_male\" : count_gender})\n",
    "Percentage_DataFrame.index.name = None\n",
    "Percentage_DataFrame.style.format({\"Percentage Players\" : \"{:,.2f}\"})"
   ]
  },
  {
   "cell_type": "code",
   "execution_count": 126,
   "metadata": {},
   "outputs": [
    {
     "data": {
      "text/html": [
       "<style  type=\"text/css\" >\n",
       "</style><table id=\"T_6ad83fb2_1c9a_11ea_aa2f_8c859022242e\" ><thead>    <tr>        <th class=\"blank level0\" ></th>        <th class=\"col_heading level0 col0\" >Purchase Count</th>        <th class=\"col_heading level0 col1\" >Average Purchase Price</th>        <th class=\"col_heading level0 col2\" >Total Purchase Value</th>        <th class=\"col_heading level0 col3\" >Average Purchase Total per Person by Age Group</th>    </tr>    <tr>        <th class=\"index_name level0\" >Age Grouping</th>        <th class=\"blank\" ></th>        <th class=\"blank\" ></th>        <th class=\"blank\" ></th>        <th class=\"blank\" ></th>    </tr></thead><tbody>\n",
       "                <tr>\n",
       "                        <th id=\"T_6ad83fb2_1c9a_11ea_aa2f_8c859022242elevel0_row0\" class=\"row_heading level0 row0\" >10-20</th>\n",
       "                        <td id=\"T_6ad83fb2_1c9a_11ea_aa2f_8c859022242erow0_col0\" class=\"data row0 col0\" >7</td>\n",
       "                        <td id=\"T_6ad83fb2_1c9a_11ea_aa2f_8c859022242erow0_col1\" class=\"data row0 col1\" >3.65</td>\n",
       "                        <td id=\"T_6ad83fb2_1c9a_11ea_aa2f_8c859022242erow0_col2\" class=\"data row0 col2\" >32.89</td>\n",
       "                        <td id=\"T_6ad83fb2_1c9a_11ea_aa2f_8c859022242erow0_col3\" class=\"data row0 col3\" >0.63</td>\n",
       "            </tr>\n",
       "            <tr>\n",
       "                        <th id=\"T_6ad83fb2_1c9a_11ea_aa2f_8c859022242elevel0_row1\" class=\"row_heading level0 row1\" >25-30</th>\n",
       "                        <td id=\"T_6ad83fb2_1c9a_11ea_aa2f_8c859022242erow1_col0\" class=\"data row1 col0\" >17</td>\n",
       "                        <td id=\"T_6ad83fb2_1c9a_11ea_aa2f_8c859022242erow1_col1\" class=\"data row1 col1\" >3.31</td>\n",
       "                        <td id=\"T_6ad83fb2_1c9a_11ea_aa2f_8c859022242erow1_col2\" class=\"data row1 col2\" >76.07</td>\n",
       "                        <td id=\"T_6ad83fb2_1c9a_11ea_aa2f_8c859022242erow1_col3\" class=\"data row1 col3\" >0.57</td>\n",
       "            </tr>\n",
       "            <tr>\n",
       "                        <th id=\"T_6ad83fb2_1c9a_11ea_aa2f_8c859022242elevel0_row2\" class=\"row_heading level0 row2\" >30-35</th>\n",
       "                        <td id=\"T_6ad83fb2_1c9a_11ea_aa2f_8c859022242erow2_col0\" class=\"data row2 col0\" >423</td>\n",
       "                        <td id=\"T_6ad83fb2_1c9a_11ea_aa2f_8c859022242erow2_col1\" class=\"data row2 col1\" >3.04</td>\n",
       "                        <td id=\"T_6ad83fb2_1c9a_11ea_aa2f_8c859022242erow2_col2\" class=\"data row2 col2\" >1,759.80</td>\n",
       "                        <td id=\"T_6ad83fb2_1c9a_11ea_aa2f_8c859022242erow2_col3\" class=\"data row2 col3\" >0.53</td>\n",
       "            </tr>\n",
       "            <tr>\n",
       "                        <th id=\"T_6ad83fb2_1c9a_11ea_aa2f_8c859022242elevel0_row3\" class=\"row_heading level0 row3\" >35-40</th>\n",
       "                        <td id=\"T_6ad83fb2_1c9a_11ea_aa2f_8c859022242erow3_col0\" class=\"data row3 col0\" >129</td>\n",
       "                        <td id=\"T_6ad83fb2_1c9a_11ea_aa2f_8c859022242erow3_col1\" class=\"data row3 col1\" >3.02</td>\n",
       "                        <td id=\"T_6ad83fb2_1c9a_11ea_aa2f_8c859022242erow3_col2\" class=\"data row3 col2\" >511.01</td>\n",
       "                        <td id=\"T_6ad83fb2_1c9a_11ea_aa2f_8c859022242erow3_col3\" class=\"data row3 col3\" >0.52</td>\n",
       "            </tr>\n",
       "    </tbody></table>"
      ],
      "text/plain": [
       "<pandas.io.formats.style.Styler at 0x11f4192e8>"
      ]
     },
     "execution_count": 126,
     "metadata": {},
     "output_type": "execute_result"
    }
   ],
   "source": [
    "### Age Demographics\n",
    "purchase_data[\"Age\"]\n",
    "bins = [0,5,7,10,25,45,50]\n",
    "bins_group = [ \"<10\",\"10-20\",\"25-30\",\"30-35\",\"35-40\",\"45+\"]\n",
    "purchase_data[\"Age Grouping\"] = pd.cut(purchase_data[\"Age\"],bins,labels=bins_group)\n",
    "purchase_data[\"Age Grouping\"].value_counts()\n",
    "Age_Grouping = purchase_data.groupby(\"Age Grouping\")\n",
    "total_count_age = Age_Grouping[\"SN\"].nunique()\n",
    "Avge_Price = Age_Grouping[\"Price\"].mean()\n",
    "total_purchase = Age_Grouping['Price'].sum()\n",
    "Avg_price_person = Avge_Price / total_number_players * 100\n",
    "\n",
    "AgeGroup = pd.DataFrame({\"Purchase Count\" :total_count_age, \"Average Purchase Price\":Avge_Price,\n",
    "                        \"Total Purchase Value\": total_purchase,\n",
    "                         \"Average Purchase Total per Person by Age Group\" :Avg_price_person })\n",
    "\n",
    "AgeGroup.dropna().style.format({\"Average Purchase Price\" : \"{:,.2f}\",\n",
    "                       \"Total Purchase Value\" :  \"{:,.2f}\",\n",
    "                       \"Average Purchase Total per Person by Age Group\" :\"{:,.2f}\" })"
   ]
  },
  {
   "cell_type": "code",
   "execution_count": 98,
   "metadata": {},
   "outputs": [
    {
     "data": {
      "text/html": [
       "<style  type=\"text/css\" >\n",
       "</style><table id=\"T_d3e06b96_1c91_11ea_aa2f_8c859022242e\" ><thead>    <tr>        <th class=\"blank level0\" ></th>        <th class=\"col_heading level0 col0\" >Purchase Count</th>        <th class=\"col_heading level0 col1\" >Average Purchase Price</th>        <th class=\"col_heading level0 col2\" >Total Purchase Value</th>        <th class=\"col_heading level0 col3\" >Average Purchase Total per Person by Gender</th>    </tr></thead><tbody>\n",
       "                <tr>\n",
       "                        <th id=\"T_d3e06b96_1c91_11ea_aa2f_8c859022242elevel0_row0\" class=\"row_heading level0 row0\" >Female</th>\n",
       "                        <td id=\"T_d3e06b96_1c91_11ea_aa2f_8c859022242erow0_col0\" class=\"data row0 col0\" >113</td>\n",
       "                        <td id=\"T_d3e06b96_1c91_11ea_aa2f_8c859022242erow0_col1\" class=\"data row0 col1\" >3.20</td>\n",
       "                        <td id=\"T_d3e06b96_1c91_11ea_aa2f_8c859022242erow0_col2\" class=\"data row0 col2\" >361.94</td>\n",
       "                        <td id=\"T_d3e06b96_1c91_11ea_aa2f_8c859022242erow0_col3\" class=\"data row0 col3\" >4.47</td>\n",
       "            </tr>\n",
       "            <tr>\n",
       "                        <th id=\"T_d3e06b96_1c91_11ea_aa2f_8c859022242elevel0_row1\" class=\"row_heading level0 row1\" >Male</th>\n",
       "                        <td id=\"T_d3e06b96_1c91_11ea_aa2f_8c859022242erow1_col0\" class=\"data row1 col0\" >652</td>\n",
       "                        <td id=\"T_d3e06b96_1c91_11ea_aa2f_8c859022242erow1_col1\" class=\"data row1 col1\" >3.02</td>\n",
       "                        <td id=\"T_d3e06b96_1c91_11ea_aa2f_8c859022242erow1_col2\" class=\"data row1 col2\" >1,967.64</td>\n",
       "                        <td id=\"T_d3e06b96_1c91_11ea_aa2f_8c859022242erow1_col3\" class=\"data row1 col3\" >4.07</td>\n",
       "            </tr>\n",
       "            <tr>\n",
       "                        <th id=\"T_d3e06b96_1c91_11ea_aa2f_8c859022242elevel0_row2\" class=\"row_heading level0 row2\" >Other / Non-Disclosed</th>\n",
       "                        <td id=\"T_d3e06b96_1c91_11ea_aa2f_8c859022242erow2_col0\" class=\"data row2 col0\" >15</td>\n",
       "                        <td id=\"T_d3e06b96_1c91_11ea_aa2f_8c859022242erow2_col1\" class=\"data row2 col1\" >3.35</td>\n",
       "                        <td id=\"T_d3e06b96_1c91_11ea_aa2f_8c859022242erow2_col2\" class=\"data row2 col2\" >50.19</td>\n",
       "                        <td id=\"T_d3e06b96_1c91_11ea_aa2f_8c859022242erow2_col3\" class=\"data row2 col3\" >4.56</td>\n",
       "            </tr>\n",
       "    </tbody></table>"
      ],
      "text/plain": [
       "<pandas.io.formats.style.Styler at 0x11e460a90>"
      ]
     },
     "execution_count": 98,
     "metadata": {},
     "output_type": "execute_result"
    }
   ],
   "source": [
    "\n",
    "# Count the totalby gender \n",
    "purchase_count = gender_count[\"Purchase ID\"].count()\n",
    "\n",
    "purchase_count\n",
    "# Average purchase \n",
    "avg_p_price = gender_count[\"Price\"].mean()\n",
    "\n",
    "# Average purchase \n",
    "purch_total = gender_count[\"Price\"].sum()\n",
    "\n",
    "# Average purchase total by gender divivded by purchase count by unique shoppers\n",
    "avg_p_per_person = purch_total/count_gender\n",
    "Gender_analsis = pd.DataFrame({\"Purchase Count\" : purchase_count, \"Average Purchase Price\":avg_p_price,\n",
    "                               \"Total Purchase Value\" :purch_total,\n",
    "                                \"Average Purchase Total per Person by Gender\":avg_p_per_person  })\n",
    "Gender_analysis.style.format({\"Average Purchase Price\" : \"{:,.2f}\", \"Total Purchase Value\": \"{:,.2f}\",\n",
    "                              \"Average Purchase Total per Person by Gender\" : \"{:,.2f}\"})"
   ]
  },
  {
   "cell_type": "code",
   "execution_count": 80,
   "metadata": {},
   "outputs": [
    {
     "data": {
      "text/html": [
       "<div>\n",
       "<style scoped>\n",
       "    .dataframe tbody tr th:only-of-type {\n",
       "        vertical-align: middle;\n",
       "    }\n",
       "\n",
       "    .dataframe tbody tr th {\n",
       "        vertical-align: top;\n",
       "    }\n",
       "\n",
       "    .dataframe thead th {\n",
       "        text-align: right;\n",
       "    }\n",
       "</style>\n",
       "<table border=\"1\" class=\"dataframe\">\n",
       "  <thead>\n",
       "    <tr style=\"text-align: right;\">\n",
       "      <th></th>\n",
       "      <th>Purchase Count</th>\n",
       "      <th>Average Purchase Price</th>\n",
       "      <th>Total Purchase Value</th>\n",
       "    </tr>\n",
       "    <tr>\n",
       "      <th>SN</th>\n",
       "      <th></th>\n",
       "      <th></th>\n",
       "      <th></th>\n",
       "    </tr>\n",
       "  </thead>\n",
       "  <tbody>\n",
       "    <tr>\n",
       "      <th>Lisosia93</th>\n",
       "      <td>5</td>\n",
       "      <td>$3.79</td>\n",
       "      <td>$18.96</td>\n",
       "    </tr>\n",
       "    <tr>\n",
       "      <th>Idastidru52</th>\n",
       "      <td>4</td>\n",
       "      <td>$3.86</td>\n",
       "      <td>$15.45</td>\n",
       "    </tr>\n",
       "    <tr>\n",
       "      <th>Chamjask73</th>\n",
       "      <td>3</td>\n",
       "      <td>$4.61</td>\n",
       "      <td>$13.83</td>\n",
       "    </tr>\n",
       "    <tr>\n",
       "      <th>Iral74</th>\n",
       "      <td>4</td>\n",
       "      <td>$3.40</td>\n",
       "      <td>$13.62</td>\n",
       "    </tr>\n",
       "    <tr>\n",
       "      <th>Iskadarya95</th>\n",
       "      <td>3</td>\n",
       "      <td>$4.37</td>\n",
       "      <td>$13.10</td>\n",
       "    </tr>\n",
       "  </tbody>\n",
       "</table>\n",
       "</div>"
      ],
      "text/plain": [
       "             Purchase Count Average Purchase Price Total Purchase Value\n",
       "SN                                                                     \n",
       "Lisosia93                 5                  $3.79               $18.96\n",
       "Idastidru52               4                  $3.86               $15.45\n",
       "Chamjask73                3                  $4.61               $13.83\n",
       "Iral74                    4                  $3.40               $13.62\n",
       "Iskadarya95               3                  $4.37               $13.10"
      ]
     },
     "execution_count": 80,
     "metadata": {},
     "output_type": "execute_result"
    }
   ],
   "source": [
    "### Top Spenders\n",
    "\n",
    "\n",
    "spenders = pd.DataFrame(purchase_data)\n",
    "spenders_group = spenders.groupby(['SN'])\n",
    "\n",
    "top_spenders = pd.DataFrame({\"Purchase Count\":spenders_group[\"Price\"].count(), \"Average Purchase Price\":spenders_group[\"Price\"].mean(),\"Total Purchase Value\":spenders_group[\"Price\"].sum()})\n",
    "top_spenders = top_spenders.sort_values(\"Total Purchase Value\", ascending=False)\n",
    "top_spenders[\"Average Purchase Price\"] = top_spenders[\"Average Purchase Price\"].map(\"${:.2f}\".format)\n",
    "top_spenders[\"Total Purchase Value\"] = top_spenders[\"Total Purchase Value\"].map(\"${:,.2f}\".format)\n",
    "top_spenders.head()\n",
    "\n",
    "\n",
    "\n"
   ]
  },
  {
   "cell_type": "code",
   "execution_count": 36,
   "metadata": {},
   "outputs": [
    {
     "data": {
      "text/html": [
       "<div>\n",
       "<style scoped>\n",
       "    .dataframe tbody tr th:only-of-type {\n",
       "        vertical-align: middle;\n",
       "    }\n",
       "\n",
       "    .dataframe tbody tr th {\n",
       "        vertical-align: top;\n",
       "    }\n",
       "\n",
       "    .dataframe thead th {\n",
       "        text-align: right;\n",
       "    }\n",
       "</style>\n",
       "<table border=\"1\" class=\"dataframe\">\n",
       "  <thead>\n",
       "    <tr style=\"text-align: right;\">\n",
       "      <th></th>\n",
       "      <th></th>\n",
       "      <th>Purchase Count</th>\n",
       "      <th>Item Price</th>\n",
       "      <th>Total Purchase Value</th>\n",
       "    </tr>\n",
       "    <tr>\n",
       "      <th>Item ID</th>\n",
       "      <th>Item Name</th>\n",
       "      <th></th>\n",
       "      <th></th>\n",
       "      <th></th>\n",
       "    </tr>\n",
       "  </thead>\n",
       "  <tbody>\n",
       "    <tr>\n",
       "      <th>178</th>\n",
       "      <th>Oathbreaker, Last Hope of the Breaking Storm</th>\n",
       "      <td>12</td>\n",
       "      <td>$4.23</td>\n",
       "      <td>$50.76</td>\n",
       "    </tr>\n",
       "    <tr>\n",
       "      <th>145</th>\n",
       "      <th>Fiery Glass Crusader</th>\n",
       "      <td>9</td>\n",
       "      <td>$4.58</td>\n",
       "      <td>$41.22</td>\n",
       "    </tr>\n",
       "    <tr>\n",
       "      <th>108</th>\n",
       "      <th>Extraction, Quickblade Of Trembling Hands</th>\n",
       "      <td>9</td>\n",
       "      <td>$3.53</td>\n",
       "      <td>$31.77</td>\n",
       "    </tr>\n",
       "    <tr>\n",
       "      <th>82</th>\n",
       "      <th>Nirvana</th>\n",
       "      <td>9</td>\n",
       "      <td>$4.90</td>\n",
       "      <td>$44.10</td>\n",
       "    </tr>\n",
       "    <tr>\n",
       "      <th>19</th>\n",
       "      <th>Pursuit, Cudgel of Necromancy</th>\n",
       "      <td>8</td>\n",
       "      <td>$1.02</td>\n",
       "      <td>$8.16</td>\n",
       "    </tr>\n",
       "  </tbody>\n",
       "</table>\n",
       "</div>"
      ],
      "text/plain": [
       "                                                      Purchase Count  \\\n",
       "Item ID Item Name                                                      \n",
       "178     Oathbreaker, Last Hope of the Breaking Storm              12   \n",
       "145     Fiery Glass Crusader                                       9   \n",
       "108     Extraction, Quickblade Of Trembling Hands                  9   \n",
       "82      Nirvana                                                    9   \n",
       "19      Pursuit, Cudgel of Necromancy                              8   \n",
       "\n",
       "                                                     Item Price  \\\n",
       "Item ID Item Name                                                 \n",
       "178     Oathbreaker, Last Hope of the Breaking Storm      $4.23   \n",
       "145     Fiery Glass Crusader                              $4.58   \n",
       "108     Extraction, Quickblade Of Trembling Hands         $3.53   \n",
       "82      Nirvana                                           $4.90   \n",
       "19      Pursuit, Cudgel of Necromancy                     $1.02   \n",
       "\n",
       "                                                     Total Purchase Value  \n",
       "Item ID Item Name                                                          \n",
       "178     Oathbreaker, Last Hope of the Breaking Storm               $50.76  \n",
       "145     Fiery Glass Crusader                                       $41.22  \n",
       "108     Extraction, Quickblade Of Trembling Hands                  $31.77  \n",
       "82      Nirvana                                                    $44.10  \n",
       "19      Pursuit, Cudgel of Necromancy                               $8.16  "
      ]
     },
     "execution_count": 36,
     "metadata": {},
     "output_type": "execute_result"
    }
   ],
   "source": [
    "\n",
    "### Most Popular Items\n",
    "popular_items = pd.DataFrame(purchase_data)\n",
    "popular_grp = popular_items.groupby(['Item ID','Item Name'])\n",
    "popular_grp = pd.DataFrame({\"Purchase Count\":popular_grp[\"Price\"].count(), \"Item Price\":popular_grp[\"Price\"].mean(),\"Total Purchase Value\":popular_grp[\"Price\"].sum()})\n",
    "popular_grp = popular_grp.sort_values(\"Purchase Count\", ascending=False)\n",
    "popular_grp[\"Item Price\"] = popular_grp[\"Item Price\"].map(\"${:.2f}\".format)\n",
    "popular_grp[\"Total Purchase Value\"] = popular_grp[\"Total Purchase Value\"].map(\"${:,.2f}\".format)\n",
    "\n",
    "\n",
    "popular_grp.head()"
   ]
  },
  {
   "cell_type": "code",
   "execution_count": 86,
   "metadata": {},
   "outputs": [
    {
     "data": {
      "text/html": [
       "<div>\n",
       "<style scoped>\n",
       "    .dataframe tbody tr th:only-of-type {\n",
       "        vertical-align: middle;\n",
       "    }\n",
       "\n",
       "    .dataframe tbody tr th {\n",
       "        vertical-align: top;\n",
       "    }\n",
       "\n",
       "    .dataframe thead th {\n",
       "        text-align: right;\n",
       "    }\n",
       "</style>\n",
       "<table border=\"1\" class=\"dataframe\">\n",
       "  <thead>\n",
       "    <tr style=\"text-align: right;\">\n",
       "      <th></th>\n",
       "      <th></th>\n",
       "      <th>Purchase Count</th>\n",
       "      <th>Item Price</th>\n",
       "      <th>Total Purchase Value</th>\n",
       "    </tr>\n",
       "    <tr>\n",
       "      <th>Item ID</th>\n",
       "      <th>Item Name</th>\n",
       "      <th></th>\n",
       "      <th></th>\n",
       "      <th></th>\n",
       "    </tr>\n",
       "  </thead>\n",
       "  <tbody>\n",
       "    <tr>\n",
       "      <th>178</th>\n",
       "      <th>Oathbreaker, Last Hope of the Breaking Storm</th>\n",
       "      <td>12</td>\n",
       "      <td>$4.23</td>\n",
       "      <td>$50.76</td>\n",
       "    </tr>\n",
       "    <tr>\n",
       "      <th>82</th>\n",
       "      <th>Nirvana</th>\n",
       "      <td>9</td>\n",
       "      <td>$4.90</td>\n",
       "      <td>$44.10</td>\n",
       "    </tr>\n",
       "    <tr>\n",
       "      <th>145</th>\n",
       "      <th>Fiery Glass Crusader</th>\n",
       "      <td>9</td>\n",
       "      <td>$4.58</td>\n",
       "      <td>$41.22</td>\n",
       "    </tr>\n",
       "    <tr>\n",
       "      <th>92</th>\n",
       "      <th>Final Critic</th>\n",
       "      <td>8</td>\n",
       "      <td>$4.88</td>\n",
       "      <td>$39.04</td>\n",
       "    </tr>\n",
       "    <tr>\n",
       "      <th>103</th>\n",
       "      <th>Singed Scalpel</th>\n",
       "      <td>8</td>\n",
       "      <td>$4.35</td>\n",
       "      <td>$34.80</td>\n",
       "    </tr>\n",
       "  </tbody>\n",
       "</table>\n",
       "</div>"
      ],
      "text/plain": [
       "                                                      Purchase Count  \\\n",
       "Item ID Item Name                                                      \n",
       "178     Oathbreaker, Last Hope of the Breaking Storm              12   \n",
       "82      Nirvana                                                    9   \n",
       "145     Fiery Glass Crusader                                       9   \n",
       "92      Final Critic                                               8   \n",
       "103     Singed Scalpel                                             8   \n",
       "\n",
       "                                                     Item Price  \\\n",
       "Item ID Item Name                                                 \n",
       "178     Oathbreaker, Last Hope of the Breaking Storm      $4.23   \n",
       "82      Nirvana                                           $4.90   \n",
       "145     Fiery Glass Crusader                              $4.58   \n",
       "92      Final Critic                                      $4.88   \n",
       "103     Singed Scalpel                                    $4.35   \n",
       "\n",
       "                                                     Total Purchase Value  \n",
       "Item ID Item Name                                                          \n",
       "178     Oathbreaker, Last Hope of the Breaking Storm               $50.76  \n",
       "82      Nirvana                                                    $44.10  \n",
       "145     Fiery Glass Crusader                                       $41.22  \n",
       "92      Final Critic                                               $39.04  \n",
       "103     Singed Scalpel                                             $34.80  "
      ]
     },
     "execution_count": 86,
     "metadata": {},
     "output_type": "execute_result"
    }
   ],
   "source": [
    "### Most Profitable Items\n",
    "\n",
    "                                    \n",
    "profitable_items = pd.DataFrame(purchase_data)\n",
    "profitable_items_grp = profitable_items.groupby(['Item ID','Item Name'])\n",
    "profitable_items = pd.DataFrame({\"Purchase Count\":profitable_items_grp[\"Price\"].count(), \"Item Price\":profitable_items_grp[\"Price\"].mean(),\"Total Purchase Value\":profitable_items_grp[\"Price\"].sum()})\n",
    "profitable_items = profitable_items.sort_values(\"Total Purchase Value\", ascending=False)\n",
    "profitable_items[\"Item Price\"]= profitable_items[\"Item Price\"].map(\"${:,.2f}\".format )   \n",
    "profitable_items[\"Total Purchase Value\"] = profitable_items[\"Total Purchase Value\"].map(\"${:,.2f}\".format)\n",
    "\n",
    "profitable_items.head()\n",
    "\n",
    "\n",
    "\n"
   ]
  },
  {
   "cell_type": "markdown",
   "metadata": {},
   "source": [
    "##### "
   ]
  }
 ],
 "metadata": {
  "kernelspec": {
   "display_name": "Python 3",
   "language": "python",
   "name": "python3"
  },
  "language_info": {
   "codemirror_mode": {
    "name": "ipython",
    "version": 3
   },
   "file_extension": ".py",
   "mimetype": "text/x-python",
   "name": "python",
   "nbconvert_exporter": "python",
   "pygments_lexer": "ipython3",
   "version": "3.7.3"
  }
 },
 "nbformat": 4,
 "nbformat_minor": 4
}
